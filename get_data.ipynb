{
 "cells": [
  {
   "cell_type": "code",
   "execution_count": 11,
   "id": "1c630d6a",
   "metadata": {},
   "outputs": [],
   "source": [
    "import synapseclient \n",
    "import synapseutils "
   ]
  },
  {
   "cell_type": "code",
   "execution_count": null,
   "id": "32e92494",
   "metadata": {},
   "outputs": [
    {
     "name": "stderr",
     "output_type": "stream",
     "text": [
      "\n",
      "UPGRADE AVAILABLE\n",
      "\n",
      "A more recent version of the Synapse Client (4.9.0) is available. Your version (4.5.1) can be upgraded by typing:\n",
      "    pip install --upgrade synapseclient\n",
      "\n",
      "Python Synapse Client version 4.9.0 release notes\n",
      "\n",
      "https://python-docs.synapse.org/news/\n",
      "\n"
     ]
    },
    {
     "name": "stdout",
     "output_type": "stream",
     "text": [
      "Welcome, spoudel07!\n",
      "\n"
     ]
    },
    {
     "name": "stderr",
     "output_type": "stream",
     "text": [
      "Downloading files:   0%|          | 0.00/1.00 [00:01<?, ?B/s]"
     ]
    },
    {
     "name": "stdout",
     "output_type": "stream",
     "text": [
      "Syncing Folder (syn51514105:BraTS-GLI) from Synapse.\n"
     ]
    },
    {
     "name": "stderr",
     "output_type": "stream",
     "text": [
      "Downloading files:  87%|████████▋ | 13.6G/15.5G [29:24<04:14, 7.69MB/s]  "
     ]
    },
    {
     "name": "stdout",
     "output_type": "stream",
     "text": [
      "Downloaded syn51514132 to /home/fm-pc-lt-273/.synapseCache/453/124663453/ASNR-MICCAI-BraTS2023-GLI-Challenge-TrainingData.zip\n"
     ]
    },
    {
     "name": "stderr",
     "output_type": "stream",
     "text": [
      "Downloading files: 100%|██████████| 15.5G/15.5G [33:34<00:00, 7.71MB/s]"
     ]
    },
    {
     "name": "stdout",
     "output_type": "stream",
     "text": [
      "Downloaded syn51514110 to /home/fm-pc-lt-273/.synapseCache/768/124662768/ASNR-MICCAI-BraTS2023-GLI-Challenge-ValidationData.zip\n"
     ]
    },
    {
     "name": "stderr",
     "output_type": "stream",
     "text": [
      "Downloading files: 100%|██████████| 15.5G/15.5G [33:34<00:00, 7.71MB/s]\n"
     ]
    }
   ],
   "source": [
    "syn = synapseclient.Synapse() \n",
    "syn.login(authToken=\"YOUR_TOKEN_HERE\")\n",
    "files = synapseutils.syncFromSynapse(syn, 'syn51514105') "
   ]
  },
  {
   "cell_type": "code",
   "execution_count": null,
   "id": "6e73ea91",
   "metadata": {},
   "outputs": [],
   "source": []
  }
 ],
 "metadata": {
  "kernelspec": {
   "display_name": "neuroai",
   "language": "python",
   "name": "python3"
  },
  "language_info": {
   "codemirror_mode": {
    "name": "ipython",
    "version": 3
   },
   "file_extension": ".py",
   "mimetype": "text/x-python",
   "name": "python",
   "nbconvert_exporter": "python",
   "pygments_lexer": "ipython3",
   "version": "3.8.10"
  }
 },
 "nbformat": 4,
 "nbformat_minor": 5
}
